{
 "cells": [
  {
   "cell_type": "markdown",
   "source": [
    "# Setup key"
   ],
   "metadata": {
    "collapsed": false,
    "pycharm": {
     "name": "#%% md\n"
    }
   }
  },
  {
   "cell_type": "code",
   "execution_count": 2,
   "outputs": [
    {
     "name": "stdout",
     "output_type": "stream",
     "text": [
      "{'data': b'eyJidWRnZXRBbW91bnQiOiAxMDAsICJjb3N0QW1vdW50IjogMTB9'}\n"
     ]
    }
   ],
   "source": [
    "import base64\n",
    "import json\n",
    "data = {\"budgetAmount\": 100, \"costAmount\": 10}\n",
    "\n",
    "result = {\n",
    "    \"data\": base64.b64encode(bytes(json.dumps(data), 'utf-8'))\n",
    "}\n",
    "\n",
    "print(result)"
   ],
   "metadata": {
    "collapsed": false,
    "pycharm": {
     "name": "#%%\n"
    }
   }
  },
  {
   "cell_type": "code",
   "execution_count": 178,
   "outputs": [
    {
     "name": "stdout",
     "output_type": "stream",
     "text": [
      "[*********************100%***********************]  194 of 194 completed\n",
      "executed in 10.62 seconds.\n"
     ]
    }
   ],
   "source": [
    "import yfinance as yf\n",
    "\n",
    "# msft = yf.Ticker(\"MSFT\")\n",
    "\n",
    "import time\n",
    "s = time.perf_counter()\n",
    "\n",
    "stocks = yf.download(  # or pdr.get_data_yahoo(...\n",
    "    # tickers list or string as well\n",
    "    tickers = \"RRRP3.SA ALPA4.SA ABEV3.SA AMER3.SA ASAI3.SA AZUL4.SA B3SA3.SA BPAN4.SA BBSE3.SA BRML3.SA BBDC3.SA BBDC4.SA BRAP4.SA BBAS3.SA BRKM5.SA BRFS3.SA BPAC11.SA CRFB3.SA CCRO3.SA CMIG4.SA CIEL3.SA COGN3.SA CPLE6.SA CSAN3.SA CPFE3.SA CMIN3.SA CVCB3.SA CYRE3.SA DXCO3.SA ECOR3.SA ELET3.SA ELET6.SA EMBR3.SA ENBR3.SA ENGI11.SA ENEV3.SA EGIE3.SA EQTL3.SA EZTC3.SA FLRY3.SA GGBR4.SA GOAU4.SA GOLL4.SA NTCO3.SA SOMA3.SA HAPV3.SA HYPE3.SA IGTI11.SA IRBR3.SA ITSA4.SA ITUB4.SA JBSS3.SA JHSF3.SA KLBN11.SA RENT3.SA LWSA3.SA LREN3.SA MGLU3.SA MRFG3.SA CASH3.SA BEEF3.SA MRVE3.SA MULT3.SA PCAR3.SA PETR3.SA PETR4.SA PRIO3.SA PETZ3.SA POSI3.SA QUAL3.SA RADL3.SA RDOR3.SA RAIL3.SA SBSP3.SA SANB11.SA CSNA3.SA SLCE3.SA SULA11.SA SUZB3.SA TAEE11.SA VIVT3.SA TIMS3.SA TOTS3.SA UGPA3.SA USIM5.SA VALE3.SA VIIA3.SA VBBR3.SA WEGE3.SA YDUQ3.SA A1AP34.SA A1BM34.SA A1DI34.SA A1DM34.SA A1EE34.SA A1EN34.SA A1EP34.SA A1ES34.SA A1FL34.SA A1GI34.SA A1IV34.SA A1JG34.SA A1KA34.SA A1LB34.SA A1LG34.SA A1LK34.SA A1LL34.SA A1LN34.SA A1MB34.SA A1MD34.SA A1ME34.SA A1MP34.SA A1MT34.SA A1MX34.SA A1NE34.SA A1NS34.SA A1OS34.SA A1PA34.SA A1PD34.SA A1PH34.SA A1RE34.SA A1SU34.SA A1TM34.SA A1TT34.SA A1UT34.SA A1VB34.SA A1VY34.SA A1WK34.SA A1YX34.SA A2MC34.SA AALL34.SA AALR3.SA AAPL34.SA ABBV34.SA ABCB4.SA ABEV3.SA ABTT34.SA ADBE34.SA ADPR34.SA AERI3.SA AESB3.SA AFLT3.SA AGRO3.SA AGXY3.SA AHEB3.SA AHEB5.SA AHEB6.SA AIGB34.SA AIRB34.SA ALLD3.SA ALPA3.SA ALPA4.SA ALPK3.SA ALSO3.SA ALUP11.SA ALUP3.SA ALUP4.SA AMAR3.SA AMBP3.SA AMER3.SA AMGN34.SA AMZO34.SA ANIM3.SA APER3.SA ARML3.SA ARNC34.SA ARZZ3.SA ASAI3.SA ATMP3.SA ATOM3.SA ATTB34.SA ATVI34.SA AURA33.SA AVGO34.SA AVLL3.SA AXPB34.SA AZEV3.SA AZEV4.SA AZOI34.SA AZUL4.SA B1AM34.SA B1AX34.SA B1BT34.SA B1BW34.SA B1DX34.SA B1FC34.SA B1KR34.SA B1LL34.SA B1MR34.SA B1RF34.SA B1SX34.SA B1WA34.SA B2HI34.SA B2YN34.SA B3SA3.SA BAHI3.SA BALM3.SA BALM4.SA BAUH4.SA BAZA3.SA BBAS3.SA BBDC3.SA BBDC4.SA \",\n",
    "    # use \"period\" instead of start/end\n",
    "    # valid periods: 1d,5d,1mo,3mo,6mo,1y,2y,5y,10y,ytd,max\n",
    "    # (optional, default is '1mo')\n",
    "    period = \"5d\",\n",
    "\n",
    "    # fetch data by interval (including intraday if period < 60 days)\n",
    "    # valid intervals: 1m,2m,5m,15m,30m,60m,90m,1h,1d,5d,1wk,1mo,3mo\n",
    "    # (optional, default is '1d')\n",
    "    interval = \"1d\",\n",
    "\n",
    "    # group by ticker (to access via data['SPY'])\n",
    "    # (optional, default is 'column')\n",
    "    group_by = 'ticker',\n",
    "\n",
    "    # adjust all OHLC automatically\n",
    "    # (optional, default is False)\n",
    "    auto_adjust = True,\n",
    "\n",
    "    # download pre/post regular market hours data\n",
    "    # (optional, default is False)\n",
    "    prepost = True,\n",
    "\n",
    "    # use threads for mass downloading? (True/False/Integer)\n",
    "    # (optional, default is True)\n",
    "    threads = True,\n",
    "\n",
    "    # proxy URL scheme use use when downloading?\n",
    "    # (optional, default is None)\n",
    "    proxy = None\n",
    ")\n",
    "\n",
    "elapsed = time.perf_counter() - s\n",
    "print(f\"executed in {elapsed:0.2f} seconds.\")\n"
   ],
   "metadata": {
    "collapsed": false
   }
  },
  {
   "cell_type": "code",
   "execution_count": 185,
   "outputs": [
    {
     "data": {
      "text/plain": "{'Open': {Timestamp('2022-10-26 00:00:00', freq='B'): 23.780000686645508,\n  Timestamp('2022-10-27 00:00:00', freq='B'): 23.6299991607666,\n  Timestamp('2022-10-28 00:00:00', freq='B'): 24.079999923706055,\n  Timestamp('2022-10-31 00:00:00', freq='B'): 24.739999771118164,\n  Timestamp('2022-11-01 00:00:00', freq='B'): 25.639999389648438},\n 'High': {Timestamp('2022-10-26 00:00:00', freq='B'): 24.049999237060547,\n  Timestamp('2022-10-27 00:00:00', freq='B'): 24.610000610351562,\n  Timestamp('2022-10-28 00:00:00', freq='B'): 25.049999237060547,\n  Timestamp('2022-10-31 00:00:00', freq='B'): 26.510000228881836,\n  Timestamp('2022-11-01 00:00:00', freq='B'): 27.149999618530273},\n 'Low': {Timestamp('2022-10-26 00:00:00', freq='B'): 23.399999618530273,\n  Timestamp('2022-10-27 00:00:00', freq='B'): 23.5,\n  Timestamp('2022-10-28 00:00:00', freq='B'): 24.079999923706055,\n  Timestamp('2022-10-31 00:00:00', freq='B'): 24.56999969482422,\n  Timestamp('2022-11-01 00:00:00', freq='B'): 25.34000015258789},\n 'Close': {Timestamp('2022-10-26 00:00:00', freq='B'): 23.459999084472656,\n  Timestamp('2022-10-27 00:00:00', freq='B'): 24.260000228881836,\n  Timestamp('2022-10-28 00:00:00', freq='B'): 24.84000015258789,\n  Timestamp('2022-10-31 00:00:00', freq='B'): 26.309999465942383,\n  Timestamp('2022-11-01 00:00:00', freq='B'): 26.100000381469727},\n 'Volume': {Timestamp('2022-10-26 00:00:00', freq='B'): 7192300,\n  Timestamp('2022-10-27 00:00:00', freq='B'): 8130900,\n  Timestamp('2022-10-28 00:00:00', freq='B'): 6234600,\n  Timestamp('2022-10-31 00:00:00', freq='B'): 15077500,\n  Timestamp('2022-11-01 00:00:00', freq='B'): 14764500}}"
     },
     "execution_count": 185,
     "metadata": {},
     "output_type": "execute_result"
    }
   ],
   "source": [
    "stocks[\"RADL3.SA\"].to_dict()\n"
   ],
   "metadata": {
    "collapsed": false
   }
  },
  {
   "cell_type": "code",
   "execution_count": 164,
   "outputs": [
    {
     "name": "stdout",
     "output_type": "stream",
     "text": [
      "[*********************100%***********************]  1 of 1 completed\n"
     ]
    },
    {
     "data": {
      "text/plain": "{Timestamp('2022-10-31 00:00:00'): {'Open': 18.1200008392334,\n  'High': 18.729999542236328,\n  'Low': 17.950000762939453,\n  'Close': 18.600000381469727,\n  'Volume': 3833300},\n Timestamp('2022-11-01 00:00:00'): {'Open': 18.5,\n  'High': 18.719999313354492,\n  'Low': 18.049999237060547,\n  'Close': 18.3799991607666,\n  'Volume': 3602100}}"
     },
     "execution_count": 164,
     "metadata": {},
     "output_type": "execute_result"
    }
   ],
   "source": [
    "import yfinance as yf\n",
    "\n",
    "# msft = yf.Ticker(\"MSFT\")\n",
    "\n",
    "items = yf.download(  # or pdr.get_data_yahoo(...\n",
    "    # tickers list or string as well\n",
    "    tickers = \"FLRY3.SA\",\n",
    "\n",
    "    # use \"period\" instead of start/end\n",
    "    # valid periods: 1d,5d,1mo,3mo,6mo,1y,2y,5y,10y,ytd,max\n",
    "    # (optional, default is '1mo')\n",
    "    period = \"2d\",\n",
    "\n",
    "    # fetch data by interval (including intraday if period < 60 days)\n",
    "    # valid intervals: 1m,2m,5m,15m,30m,60m,90m,1h,1d,5d,1wk,1mo,3mo\n",
    "    # (optional, default is '1d')\n",
    "    interval = \"1d\",\n",
    "\n",
    "    # group by ticker (to access via data['SPY'])\n",
    "    # (optional, default is 'column')\n",
    "    group_by = 'ticker',\n",
    "\n",
    "    # adjust all OHLC automatically\n",
    "    # (optional, default is False)\n",
    "    auto_adjust = True,\n",
    "\n",
    "    # download pre/post regular market hours data\n",
    "    # (optional, default is False)\n",
    "    prepost = True,\n",
    "\n",
    "    # use threads for mass downloading? (True/False/Integer)\n",
    "    # (optional, default is True)\n",
    "    threads = True,\n",
    "\n",
    "    # proxy URL scheme use use when downloading?\n",
    "    # (optional, default is None)\n",
    "    proxy = None\n",
    ").to_dict(orient='index')\n",
    "\n",
    "# dicto = items.to_dict(orient='index')\n",
    "items"
   ],
   "metadata": {
    "collapsed": false
   }
  },
  {
   "cell_type": "markdown",
   "source": [
    "https://github.com/ranaroussi/yfinance"
   ],
   "metadata": {
    "collapsed": false,
    "pycharm": {
     "name": "#%% md\n"
    }
   }
  },
  {
   "cell_type": "code",
   "execution_count": 1,
   "outputs": [
    {
     "name": "stdout",
     "output_type": "stream",
     "text": [
      "[*********************100%***********************]  2 of 2 completed\n"
     ]
    }
   ],
   "source": [
    "import yfinance as yf\n",
    "\n",
    "data = yf.download(\"SPY AAPL MSFT \", start=\"2017-01-01\", end=\"2017-04-30\")"
   ],
   "metadata": {
    "collapsed": false,
    "pycharm": {
     "name": "#%%\n"
    }
   }
  },
  {
   "cell_type": "code",
   "execution_count": 17,
   "outputs": [
    {
     "data": {
      "text/plain": "{'zip': '95014',\n 'sector': 'Technology',\n 'fullTimeEmployees': 154000,\n 'longBusinessSummary': 'Apple Inc. designs, manufactures, and markets smartphones, personal computers, tablets, wearables, and accessories worldwide. It also sells various related services. In addition, the company offers iPhone, a line of smartphones; Mac, a line of personal computers; iPad, a line of multi-purpose tablets; AirPods Max, an over-ear wireless headphone; and wearables, home, and accessories comprising AirPods, Apple TV, Apple Watch, Beats products, HomePod, and iPod touch. Further, it provides AppleCare support services; cloud services store services; and operates various platforms, including the App Store that allow customers to discover and download applications and digital content, such as books, music, video, games, and podcasts. Additionally, the company offers various services, such as Apple Arcade, a game subscription service; Apple Music, which offers users a curated listening experience with on-demand radio stations; Apple News+, a subscription news and magazine service; Apple TV+, which offers exclusive original content; Apple Card, a co-branded credit card; and Apple Pay, a cashless payment service, as well as licenses its intellectual property. The company serves consumers, and small and mid-sized businesses; and the education, enterprise, and government markets. It distributes third-party applications for its products through the App Store. The company also sells its products through its retail and online stores, and direct sales force; and third-party cellular network carriers, wholesalers, retailers, and resellers. Apple Inc. was incorporated in 1977 and is headquartered in Cupertino, California.',\n 'city': 'Cupertino',\n 'phone': '408 996 1010',\n 'state': 'CA',\n 'country': 'United States',\n 'companyOfficers': [],\n 'website': 'https://www.apple.com',\n 'maxAge': 1,\n 'address1': 'One Apple Park Way',\n 'industry': 'Consumer Electronics',\n 'ebitdaMargins': 0.3343,\n 'profitMargins': 0.25709,\n 'grossMargins': 0.43313998,\n 'operatingCashflow': 118224003072,\n 'revenueGrowth': 0.019,\n 'operatingMargins': 0.30533,\n 'ebitda': 129556996096,\n 'targetLowPrice': None,\n 'recommendationKey': 'none',\n 'grossProfits': 152836000000,\n 'freeCashflow': 83344621568,\n 'targetMedianPrice': None,\n 'currentPrice': 152.74,\n 'earningsGrowth': -0.077,\n 'currentRatio': 0.865,\n 'returnOnAssets': 0.22204,\n 'numberOfAnalystOpinions': None,\n 'targetMeanPrice': None,\n 'debtToEquity': 205.984,\n 'returnOnEquity': 1.62816,\n 'targetHighPrice': None,\n 'totalCash': 48230998016,\n 'totalDebt': 119691001856,\n 'totalRevenue': 387541991424,\n 'totalCashPerShare': 3.001,\n 'financialCurrency': 'USD',\n 'revenuePerShare': 23.732,\n 'quickRatio': 0.697,\n 'recommendationMean': None,\n 'exchange': 'FRA',\n 'shortName': 'APPLE INC',\n 'longName': 'Apple Inc.',\n 'exchangeTimezoneName': 'Europe/Berlin',\n 'exchangeTimezoneShortName': 'CEST',\n 'isEsgPopulated': False,\n 'gmtOffSetMilliseconds': '7200000',\n 'quoteType': 'EQUITY',\n 'symbol': 'APC.F',\n 'messageBoardId': 'finmb_24937',\n 'market': 'dr_market',\n 'annualHoldingsTurnover': None,\n 'enterpriseToRevenue': 6.348,\n 'beta3Year': None,\n 'enterpriseToEbitda': 18.989,\n '52WeekChange': 0.1778779,\n 'morningStarRiskRating': None,\n 'forwardEps': None,\n 'revenueQuarterlyGrowth': None,\n 'sharesOutstanding': 16070800384,\n 'fundInceptionDate': None,\n 'annualReportExpenseRatio': None,\n 'totalAssets': None,\n 'bookValue': 3.61,\n 'sharesShort': None,\n 'sharesPercentSharesOut': None,\n 'fundFamily': None,\n 'lastFiscalYearEnd': 1632528000,\n 'heldPercentInstitutions': 0.59561,\n 'netIncomeToCommon': 99632996352,\n 'trailingEps': 6.19,\n 'lastDividendValue': 0.23,\n 'SandP52WeekChange': -0.15215701,\n 'priceToBook': 42.310253,\n 'heldPercentInsiders': 0.00071000005,\n 'nextFiscalYearEnd': 1695600000,\n 'yield': None,\n 'mostRecentQuarter': 1656115200,\n 'shortRatio': None,\n 'sharesShortPreviousMonthDate': None,\n 'floatShares': 16053717003,\n 'beta': 1.249815,\n 'enterpriseValue': 2460216459264,\n 'priceHint': 2,\n 'threeYearAverageReturn': None,\n 'lastSplitDate': 1598832000,\n 'lastSplitFactor': '4:1',\n 'legalType': None,\n 'lastDividendDate': 1659657600,\n 'morningStarOverallRating': None,\n 'earningsQuarterlyGrowth': -0.106,\n 'priceToSalesTrailing12Months': 6.4177747,\n 'dateShortInterest': None,\n 'pegRatio': None,\n 'ytdReturn': None,\n 'forwardPE': None,\n 'lastCapGain': None,\n 'shortPercentOfFloat': None,\n 'sharesShortPriorMonth': None,\n 'impliedSharesOutstanding': 0,\n 'category': None,\n 'fiveYearAverageReturn': None,\n 'previousClose': 151.64,\n 'regularMarketOpen': 151.1,\n 'twoHundredDayAverage': 148.6846,\n 'trailingAnnualDividendYield': 0.0058691637,\n 'payoutRatio': 0.1471,\n 'volume24Hr': None,\n 'regularMarketDayHigh': 152.86,\n 'navPrice': None,\n 'averageDailyVolume10Day': 4382,\n 'regularMarketPreviousClose': 151.64,\n 'fiftyDayAverage': 154.7696,\n 'trailingAnnualDividendRate': 0.89,\n 'open': 151.1,\n 'toCurrency': None,\n 'averageVolume10days': 4382,\n 'expireDate': None,\n 'algorithm': None,\n 'dividendRate': 0.89,\n 'exDividendDate': 1659657600,\n 'circulatingSupply': None,\n 'startDate': None,\n 'regularMarketDayLow': 150.5,\n 'currency': 'EUR',\n 'trailingPE': 24.675283,\n 'regularMarketVolume': 3590,\n 'lastMarket': None,\n 'maxSupply': None,\n 'openInterest': None,\n 'marketCap': 2487157260288,\n 'volumeAllCurrencies': None,\n 'strikePrice': None,\n 'averageVolume': 5847,\n 'dayLow': 150.5,\n 'ask': 152.74,\n 'askSize': 0,\n 'volume': 3590,\n 'fiftyTwoWeekHigh': 173.16,\n 'fromCurrency': None,\n 'fiveYearAvgDividendYield': 1.02,\n 'fiftyTwoWeekLow': 122.9,\n 'bid': 152.64,\n 'tradeable': False,\n 'dividendYield': 0.006,\n 'bidSize': 0,\n 'dayHigh': 152.86,\n 'coinMarketCapLink': None,\n 'regularMarketPrice': 152.74,\n 'preMarketPrice': None,\n 'logo_url': 'https://logo.clearbit.com/apple.com',\n 'trailingPegRatio': 2.6151}"
     },
     "execution_count": 17,
     "metadata": {},
     "output_type": "execute_result"
    }
   ],
   "source": [
    "import yfinance as yf\n",
    "\n",
    "apple = yf.Ticker(\"APC.F\")\n",
    "apple.info"
   ],
   "metadata": {
    "collapsed": false
   }
  },
  {
   "cell_type": "code",
   "execution_count": 41,
   "outputs": [
    {
     "data": {
      "text/plain": "{'zip': '04344-903',\n 'sector': 'Healthcare',\n 'fullTimeEmployees': 16700,\n 'longBusinessSummary': 'Fleury S.A., together with its subsidiaries, provides medical services in the diagnostic, treatment, clinical analysis, health management, medical care, orthopedics, and ophthalmology areas in Brazil. The company operates through three segments: Diagnostic Medicine, Integrated Medicine, and Dental. It provides laboratory and image exam, diagnostic information, check-up and reference laboratory, genomics, clinic day, center of infusions, dental imaging exam, dental radiology, and diagnostic imaging services. The company also offers Saúde I, a digital healthcare platform that provides services, including teleconsultations, medical, diagnostic medicine exams, and procedures; and corporate solutions and face-to-face primary care, as well as solutions for physicians with digital office and medical education. It operates 284 customer service units and 31 hospital-based units under the Labs a+, Felippe Mattoso, Lafe, Fleury, a+SP, CIP, Moacir Cunha, Vita, inlab, Weinmann, Serdil, a+ and Diagmax, a+, IRN / CPC, Diagnosis a+, a+BA, and Pretti and Bioclinic brand names. The company was founded in 1926 and is headquartered in São Paulo, Brazil.',\n 'city': 'São Paulo',\n 'phone': '55 11 5014 7200',\n 'state': 'SP',\n 'country': 'Brazil',\n 'companyOfficers': [],\n 'website': 'https://ri.fleury.com.br',\n 'maxAge': 1,\n 'address1': 'Avenida General Valdomiro de Lima, 508',\n 'fax': '55 11 5014 7425',\n 'industry': 'Diagnostics & Research',\n 'address2': 'Jabaquara',\n 'ebitdaMargins': 0.21626,\n 'profitMargins': 0.08161,\n 'grossMargins': 0.28399,\n 'operatingCashflow': 895208000,\n 'revenueGrowth': 0.193,\n 'operatingMargins': 0.16579,\n 'ebitda': 918750016,\n 'targetLowPrice': 13.86,\n 'recommendationKey': 'hold',\n 'grossProfits': 1126893000,\n 'freeCashflow': -4252125,\n 'targetMedianPrice': 20.3,\n 'currentPrice': 18.06,\n 'earningsGrowth': 0.081,\n 'currentRatio': 1.409,\n 'returnOnAssets': 0.073070005,\n 'numberOfAnalystOpinions': 12,\n 'targetMeanPrice': 20.34,\n 'debtToEquity': 197.025,\n 'returnOnEquity': 0.19466,\n 'targetHighPrice': 28.71,\n 'totalCash': 720446016,\n 'totalDebt': 3603109120,\n 'totalRevenue': 4248435968,\n 'totalCashPerShare': 2.272,\n 'financialCurrency': 'BRL',\n 'revenuePerShare': 13.403,\n 'quickRatio': 1.291,\n 'recommendationMean': 3,\n 'exchange': 'SAO',\n 'shortName': 'FLEURY      ON      NM',\n 'longName': 'Fleury S.A.',\n 'exchangeTimezoneName': 'America/Sao_Paulo',\n 'exchangeTimezoneShortName': 'BRST',\n 'isEsgPopulated': False,\n 'gmtOffSetMilliseconds': '-7200000',\n 'quoteType': 'EQUITY',\n 'symbol': 'FLRY3.SA',\n 'messageBoardId': 'finmb_22988815',\n 'market': 'br_market',\n 'annualHoldingsTurnover': None,\n 'enterpriseToRevenue': 1.989,\n 'beta3Year': None,\n 'enterpriseToEbitda': 9.198,\n '52WeekChange': -0.044710994,\n 'morningStarRiskRating': None,\n 'forwardEps': 1.13,\n 'revenueQuarterlyGrowth': None,\n 'sharesOutstanding': 320505984,\n 'fundInceptionDate': None,\n 'annualReportExpenseRatio': None,\n 'totalAssets': None,\n 'bookValue': 5.729,\n 'sharesShort': None,\n 'sharesPercentSharesOut': None,\n 'fundFamily': None,\n 'lastFiscalYearEnd': 1640908800,\n 'heldPercentInstitutions': 0.23135,\n 'netIncomeToCommon': 346731008,\n 'trailingEps': 1.08,\n 'lastDividendValue': 0.702811,\n 'SandP52WeekChange': -0.16661227,\n 'priceToBook': 3.1523824,\n 'heldPercentInsiders': 0.40330002,\n 'nextFiscalYearEnd': 1703980800,\n 'yield': None,\n 'mostRecentQuarter': 1656547200,\n 'shortRatio': None,\n 'sharesShortPreviousMonthDate': None,\n 'floatShares': 230958780,\n 'beta': 0.727941,\n 'enterpriseValue': 8450846208,\n 'priceHint': 2,\n 'threeYearAverageReturn': None,\n 'lastSplitDate': 1498521600,\n 'lastSplitFactor': '2:1',\n 'legalType': None,\n 'lastDividendDate': 1647993600,\n 'morningStarOverallRating': None,\n 'earningsQuarterlyGrowth': 0.076,\n 'priceToSalesTrailing12Months': 1.3624632,\n 'dateShortInterest': None,\n 'pegRatio': 0.82,\n 'ytdReturn': None,\n 'forwardPE': 15.982301,\n 'lastCapGain': None,\n 'shortPercentOfFloat': None,\n 'sharesShortPriorMonth': None,\n 'impliedSharesOutstanding': 0,\n 'category': None,\n 'fiveYearAverageReturn': None,\n 'previousClose': 17.52,\n 'regularMarketOpen': 17.57,\n 'twoHundredDayAverage': 16.515797,\n 'trailingAnnualDividendYield': 0.05365297,\n 'payoutRatio': 0.8585,\n 'volume24Hr': None,\n 'regularMarketDayHigh': 18.42,\n 'navPrice': None,\n 'averageDailyVolume10Day': 3095496,\n 'regularMarketPreviousClose': 17.52,\n 'fiftyDayAverage': 17.476986,\n 'trailingAnnualDividendRate': 0.94,\n 'open': 17.57,\n 'toCurrency': None,\n 'averageVolume10days': 3095496,\n 'expireDate': None,\n 'algorithm': None,\n 'dividendRate': 0.7,\n 'exDividendDate': 1647993600,\n 'circulatingSupply': None,\n 'startDate': None,\n 'regularMarketDayLow': 17.5,\n 'currency': 'BRL',\n 'trailingPE': 16.722221,\n 'regularMarketVolume': 2077300,\n 'lastMarket': None,\n 'maxSupply': None,\n 'openInterest': None,\n 'marketCap': 5788337664,\n 'volumeAllCurrencies': None,\n 'strikePrice': None,\n 'averageVolume': 2173551,\n 'dayLow': 17.5,\n 'ask': 18.3,\n 'askSize': 0,\n 'volume': 2077300,\n 'fiftyTwoWeekHigh': 21.8,\n 'fromCurrency': None,\n 'fiveYearAvgDividendYield': 3.33,\n 'fiftyTwoWeekLow': 13.53,\n 'bid': 18.24,\n 'tradeable': False,\n 'dividendYield': 0.0401,\n 'bidSize': 0,\n 'dayHigh': 18.42,\n 'coinMarketCapLink': None,\n 'regularMarketPrice': 18.06,\n 'preMarketPrice': None,\n 'logo_url': 'https://logo.clearbit.com/ri.fleury.com.br'}"
     },
     "execution_count": 41,
     "metadata": {},
     "output_type": "execute_result"
    }
   ],
   "source": [
    "import yfinance as yf\n",
    "\n",
    "flry3 = yf.Ticker(\"FLRY3.SA\")\n",
    "flry3.info"
   ],
   "metadata": {
    "collapsed": false
   }
  },
  {
   "cell_type": "code",
   "execution_count": 116,
   "outputs": [
    {
     "data": {
      "text/plain": "{'exchange': 'SAO',\n 'shortName': 'INVESTO 5GTKCI',\n 'longName': 'Investo Etf Bluestar 5G Communications Index Fundo De Indice - Investimento No Exterior',\n 'exchangeTimezoneName': 'America/Sao_Paulo',\n 'exchangeTimezoneShortName': 'BRST',\n 'isEsgPopulated': False,\n 'gmtOffSetMilliseconds': '-7200000',\n 'quoteType': 'EQUITY',\n 'symbol': '5GTK11.SA',\n 'messageBoardId': 'finmb_1758279436',\n 'market': 'br_market',\n 'previousClose': 74.35,\n 'regularMarketOpen': 76.19,\n 'twoHundredDayAverage': None,\n 'trailingAnnualDividendYield': 0,\n 'payoutRatio': None,\n 'volume24Hr': None,\n 'regularMarketDayHigh': 76.43,\n 'navPrice': None,\n 'averageDailyVolume10Day': None,\n 'totalAssets': None,\n 'regularMarketPreviousClose': 74.35,\n 'fiftyDayAverage': None,\n 'trailingAnnualDividendRate': 0,\n 'open': 76.19,\n 'toCurrency': None,\n 'averageVolume10days': None,\n 'expireDate': None,\n 'yield': None,\n 'algorithm': None,\n 'dividendRate': None,\n 'exDividendDate': None,\n 'beta': None,\n 'circulatingSupply': None,\n 'startDate': None,\n 'regularMarketDayLow': 76.05,\n 'priceHint': 2,\n 'currency': 'BRL',\n 'regularMarketVolume': 16,\n 'lastMarket': None,\n 'maxSupply': None,\n 'openInterest': None,\n 'marketCap': None,\n 'volumeAllCurrencies': None,\n 'strikePrice': None,\n 'averageVolume': None,\n 'priceToSalesTrailing12Months': None,\n 'dayLow': 76.05,\n 'ask': 76.69,\n 'ytdReturn': None,\n 'askSize': None,\n 'volume': 16,\n 'fiftyTwoWeekHigh': 76.43,\n 'forwardPE': None,\n 'maxAge': 1,\n 'fromCurrency': None,\n 'fiveYearAvgDividendYield': None,\n 'fiftyTwoWeekLow': 76.05,\n 'bid': 75.76,\n 'tradeable': False,\n 'dividendYield': None,\n 'bidSize': None,\n 'dayHigh': 76.43,\n 'coinMarketCapLink': None,\n 'regularMarketPrice': 76.05,\n 'preMarketPrice': None,\n 'logo_url': ''}"
     },
     "execution_count": 116,
     "metadata": {},
     "output_type": "execute_result"
    }
   ],
   "source": [
    "import yfinance as yf\n",
    "\n",
    "flry3 = yf.Ticker(\"5GTK11.SA\")\n",
    "flry3.info"
   ],
   "metadata": {
    "collapsed": false
   }
  },
  {
   "cell_type": "code",
   "execution_count": 86,
   "outputs": [
    {
     "name": "stdout",
     "output_type": "stream",
     "text": [
      "True\n"
     ]
    }
   ],
   "source": [
    "info = 2\n",
    "if info:\n",
    "    print(True)"
   ],
   "metadata": {
    "collapsed": false
   }
  },
  {
   "cell_type": "code",
   "execution_count": null,
   "outputs": [],
   "source": [
    "from stock_intraday.main import *\n",
    "\n",
    "entry_point(None, None)"
   ],
   "metadata": {
    "collapsed": false,
    "pycharm": {
     "is_executing": true
    }
   }
  },
  {
   "cell_type": "code",
   "execution_count": 114,
   "outputs": [
    {
     "data": {
      "text/plain": "True"
     },
     "execution_count": 114,
     "metadata": {},
     "output_type": "execute_result"
    }
   ],
   "source": [
    "all(k in {\"oi\": 1, \"bar\": 2, \"12\":2} for k in (\"oi\", \"bar\"))"
   ],
   "metadata": {
    "collapsed": false
   }
  },
  {
   "cell_type": "code",
   "execution_count": 219,
   "outputs": [],
   "source": [
    "import logging\n",
    "\n",
    "logging.info('%f before you %s', 2.4, 'leap!')"
   ],
   "metadata": {
    "collapsed": false
   }
  },
  {
   "cell_type": "code",
   "execution_count": 223,
   "outputs": [
    {
     "data": {
      "text/plain": "' victor hill flp'"
     },
     "execution_count": 223,
     "metadata": {},
     "output_type": "execute_result"
    }
   ],
   "source": [
    "from functools import reduce\n",
    "items = [{\"nome\": \"victor\", \"age\": 21}, {\"nome\": \"hill\", \"age\": 22}, {\"nome\": \"flp\", \"age\": 31}]\n",
    "\n",
    "\n",
    "\n",
    "reduce(lambda a, b: a + \" \" + b[\"nome\"], items, \"\")"
   ],
   "metadata": {
    "collapsed": false
   }
  },
  {
   "cell_type": "code",
   "execution_count": 228,
   "outputs": [
    {
     "data": {
      "text/plain": "[1, 1, 2]"
     },
     "execution_count": 228,
     "metadata": {},
     "output_type": "execute_result"
    }
   ],
   "source": [
    "lista  = [1]\n",
    "lista += [1, 2]\n",
    "lista"
   ],
   "metadata": {
    "collapsed": false
   }
  }
 ],
 "metadata": {
  "kernelspec": {
   "display_name": "Python 3",
   "language": "python",
   "name": "python3"
  },
  "language_info": {
   "codemirror_mode": {
    "name": "ipython",
    "version": 2
   },
   "file_extension": ".py",
   "mimetype": "text/x-python",
   "name": "python",
   "nbconvert_exporter": "python",
   "pygments_lexer": "ipython2",
   "version": "2.7.6"
  }
 },
 "nbformat": 4,
 "nbformat_minor": 0
}
