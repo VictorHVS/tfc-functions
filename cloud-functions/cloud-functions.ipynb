{
 "cells": [
  {
   "cell_type": "markdown",
   "source": [
    "# Setup key"
   ],
   "metadata": {
    "collapsed": false,
    "pycharm": {
     "name": "#%% md\n"
    }
   }
  },
  {
   "cell_type": "code",
   "execution_count": 2,
   "outputs": [
    {
     "name": "stdout",
     "output_type": "stream",
     "text": [
      "{'data': b'eyJidWRnZXRBbW91bnQiOiAxMDAsICJjb3N0QW1vdW50IjogMTB9'}\n"
     ]
    }
   ],
   "source": [
    "import base64\n",
    "import json\n",
    "data = {\"budgetAmount\": 100, \"costAmount\": 10}\n",
    "\n",
    "result = {\n",
    "    \"data\": base64.b64encode(bytes(json.dumps(data), 'utf-8'))\n",
    "}\n",
    "\n",
    "print(result)"
   ],
   "metadata": {
    "collapsed": false,
    "pycharm": {
     "name": "#%%\n"
    }
   }
  },
  {
   "cell_type": "code",
   "execution_count": 5,
   "outputs": [
    {
     "name": "stdout",
     "output_type": "stream",
     "text": [
      "[*********************100%***********************]  90 of 90 completed\n"
     ]
    }
   ],
   "source": [
    "import yfinance as yf\n",
    "\n",
    "# msft = yf.Ticker(\"MSFT\")\n",
    "\n",
    "msft = yf.download(  # or pdr.get_data_yahoo(...\n",
    "    # tickers list or string as well\n",
    "    tickers = \"RRRP3.SA ALPA4.SA ABEV3.SA AMER3.SA ASAI3.SA AZUL4.SA B3SA3.SA BPAN4.SA BBSE3.SA BRML3.SA BBDC3.SA BBDC4.SA BRAP4.SA BBAS3.SA BRKM5.SA BRFS3.SA BPAC11.SA CRFB3.SA CCRO3.SA CMIG4.SA CIEL3.SA COGN3.SA CPLE6.SA CSAN3.SA CPFE3.SA CMIN3.SA CVCB3.SA CYRE3.SA DXCO3.SA ECOR3.SA ELET3.SA ELET6.SA EMBR3.SA ENBR3.SA ENGI11.SA ENEV3.SA EGIE3.SA EQTL3.SA EZTC3.SA FLRY3.SA GGBR4.SA GOAU4.SA GOLL4.SA NTCO3.SA SOMA3.SA HAPV3.SA HYPE3.SA IGTI11.SA IRBR3.SA ITSA4.SA ITUB4.SA JBSS3.SA JHSF3.SA KLBN11.SA RENT3.SA LWSA3.SA LREN3.SA MGLU3.SA MRFG3.SA CASH3.SA BEEF3.SA MRVE3.SA MULT3.SA PCAR3.SA PETR3.SA PETR4.SA PRIO3.SA PETZ3.SA POSI3.SA QUAL3.SA RADL3.SA RDOR3.SA RAIL3.SA SBSP3.SA SANB11.SA CSNA3.SA SLCE3.SA SULA11.SA SUZB3.SA TAEE11.SA VIVT3.SA TIMS3.SA TOTS3.SA UGPA3.SA USIM5.SA VALE3.SA VIIA3.SA VBBR3.SA WEGE3.SA YDUQ3.SA\",\n",
    "\n",
    "    # use \"period\" instead of start/end\n",
    "    # valid periods: 1d,5d,1mo,3mo,6mo,1y,2y,5y,10y,ytd,max\n",
    "    # (optional, default is '1mo')\n",
    "    period = \"1d\",\n",
    "\n",
    "    # fetch data by interval (including intraday if period < 60 days)\n",
    "    # valid intervals: 1m,2m,5m,15m,30m,60m,90m,1h,1d,5d,1wk,1mo,3mo\n",
    "    # (optional, default is '1d')\n",
    "    interval = \"1d\",\n",
    "\n",
    "    # group by ticker (to access via data['SPY'])\n",
    "    # (optional, default is 'column')\n",
    "    group_by = 'ticker',\n",
    "\n",
    "    # adjust all OHLC automatically\n",
    "    # (optional, default is False)\n",
    "    auto_adjust = True,\n",
    "\n",
    "    # download pre/post regular market hours data\n",
    "    # (optional, default is False)\n",
    "    prepost = True,\n",
    "\n",
    "    # use threads for mass downloading? (True/False/Integer)\n",
    "    # (optional, default is True)\n",
    "    threads = True,\n",
    "\n",
    "    # proxy URL scheme use use when downloading?\n",
    "    # (optional, default is None)\n",
    "    proxy = None\n",
    ")"
   ],
   "metadata": {
    "collapsed": false,
    "pycharm": {
     "name": "#%%\n"
    }
   }
  },
  {
   "cell_type": "code",
   "execution_count": 13,
   "outputs": [
    {
     "name": "stdout",
     "output_type": "stream",
     "text": [
      "[*********************100%***********************]  1 of 1 completed\n"
     ]
    }
   ],
   "source": [
    "import yfinance as yf\n",
    "\n",
    "# msft = yf.Ticker(\"MSFT\")\n",
    "\n",
    "items = yf.download(  # or pdr.get_data_yahoo(...\n",
    "    # tickers list or string as well\n",
    "    tickers = \"APC.F\",\n",
    "\n",
    "    # use \"period\" instead of start/end\n",
    "    # valid periods: 1d,5d,1mo,3mo,6mo,1y,2y,5y,10y,ytd,max\n",
    "    # (optional, default is '1mo')\n",
    "    period = \"1d\",\n",
    "\n",
    "    # fetch data by interval (including intraday if period < 60 days)\n",
    "    # valid intervals: 1m,2m,5m,15m,30m,60m,90m,1h,1d,5d,1wk,1mo,3mo\n",
    "    # (optional, default is '1d')\n",
    "    interval = \"1m\",\n",
    "\n",
    "    # group by ticker (to access via data['SPY'])\n",
    "    # (optional, default is 'column')\n",
    "    group_by = 'ticker',\n",
    "\n",
    "    # adjust all OHLC automatically\n",
    "    # (optional, default is False)\n",
    "    auto_adjust = True,\n",
    "\n",
    "    # download pre/post regular market hours data\n",
    "    # (optional, default is False)\n",
    "    prepost = True,\n",
    "\n",
    "    # use threads for mass downloading? (True/False/Integer)\n",
    "    # (optional, default is True)\n",
    "    threads = True,\n",
    "\n",
    "    # proxy URL scheme use use when downloading?\n",
    "    # (optional, default is None)\n",
    "    proxy = None\n",
    ")"
   ],
   "metadata": {
    "collapsed": false
   }
  },
  {
   "cell_type": "code",
   "execution_count": 11,
   "outputs": [
    {
     "ename": "KeyError",
     "evalue": "'EURBRL=X'",
     "output_type": "error",
     "traceback": [
      "\u001B[0;31m---------------------------------------------------------------------------\u001B[0m",
      "\u001B[0;31mKeyError\u001B[0m                                  Traceback (most recent call last)",
      "File \u001B[0;32m~/Workspace/tfc-functions/venv/lib/python3.9/site-packages/pandas/core/indexes/base.py:3803\u001B[0m, in \u001B[0;36mIndex.get_loc\u001B[0;34m(self, key, method, tolerance)\u001B[0m\n\u001B[1;32m   3802\u001B[0m \u001B[38;5;28;01mtry\u001B[39;00m:\n\u001B[0;32m-> 3803\u001B[0m     \u001B[38;5;28;01mreturn\u001B[39;00m \u001B[38;5;28;43mself\u001B[39;49m\u001B[38;5;241;43m.\u001B[39;49m\u001B[43m_engine\u001B[49m\u001B[38;5;241;43m.\u001B[39;49m\u001B[43mget_loc\u001B[49m\u001B[43m(\u001B[49m\u001B[43mcasted_key\u001B[49m\u001B[43m)\u001B[49m\n\u001B[1;32m   3804\u001B[0m \u001B[38;5;28;01mexcept\u001B[39;00m \u001B[38;5;167;01mKeyError\u001B[39;00m \u001B[38;5;28;01mas\u001B[39;00m err:\n",
      "File \u001B[0;32m~/Workspace/tfc-functions/venv/lib/python3.9/site-packages/pandas/_libs/index.pyx:138\u001B[0m, in \u001B[0;36mpandas._libs.index.IndexEngine.get_loc\u001B[0;34m()\u001B[0m\n",
      "File \u001B[0;32m~/Workspace/tfc-functions/venv/lib/python3.9/site-packages/pandas/_libs/index.pyx:165\u001B[0m, in \u001B[0;36mpandas._libs.index.IndexEngine.get_loc\u001B[0;34m()\u001B[0m\n",
      "File \u001B[0;32mpandas/_libs/hashtable_class_helper.pxi:5745\u001B[0m, in \u001B[0;36mpandas._libs.hashtable.PyObjectHashTable.get_item\u001B[0;34m()\u001B[0m\n",
      "File \u001B[0;32mpandas/_libs/hashtable_class_helper.pxi:5753\u001B[0m, in \u001B[0;36mpandas._libs.hashtable.PyObjectHashTable.get_item\u001B[0;34m()\u001B[0m\n",
      "\u001B[0;31mKeyError\u001B[0m: 'EURBRL=X'",
      "\nThe above exception was the direct cause of the following exception:\n",
      "\u001B[0;31mKeyError\u001B[0m                                  Traceback (most recent call last)",
      "Cell \u001B[0;32mIn [11], line 1\u001B[0m\n\u001B[0;32m----> 1\u001B[0m \u001B[43mitems\u001B[49m\u001B[43m[\u001B[49m\u001B[38;5;124;43m\"\u001B[39;49m\u001B[38;5;124;43mEURBRL=X\u001B[39;49m\u001B[38;5;124;43m\"\u001B[39;49m\u001B[43m]\u001B[49m\n",
      "File \u001B[0;32m~/Workspace/tfc-functions/venv/lib/python3.9/site-packages/pandas/core/frame.py:3804\u001B[0m, in \u001B[0;36mDataFrame.__getitem__\u001B[0;34m(self, key)\u001B[0m\n\u001B[1;32m   3802\u001B[0m \u001B[38;5;28;01mif\u001B[39;00m \u001B[38;5;28mself\u001B[39m\u001B[38;5;241m.\u001B[39mcolumns\u001B[38;5;241m.\u001B[39mnlevels \u001B[38;5;241m>\u001B[39m \u001B[38;5;241m1\u001B[39m:\n\u001B[1;32m   3803\u001B[0m     \u001B[38;5;28;01mreturn\u001B[39;00m \u001B[38;5;28mself\u001B[39m\u001B[38;5;241m.\u001B[39m_getitem_multilevel(key)\n\u001B[0;32m-> 3804\u001B[0m indexer \u001B[38;5;241m=\u001B[39m \u001B[38;5;28;43mself\u001B[39;49m\u001B[38;5;241;43m.\u001B[39;49m\u001B[43mcolumns\u001B[49m\u001B[38;5;241;43m.\u001B[39;49m\u001B[43mget_loc\u001B[49m\u001B[43m(\u001B[49m\u001B[43mkey\u001B[49m\u001B[43m)\u001B[49m\n\u001B[1;32m   3805\u001B[0m \u001B[38;5;28;01mif\u001B[39;00m is_integer(indexer):\n\u001B[1;32m   3806\u001B[0m     indexer \u001B[38;5;241m=\u001B[39m [indexer]\n",
      "File \u001B[0;32m~/Workspace/tfc-functions/venv/lib/python3.9/site-packages/pandas/core/indexes/base.py:3805\u001B[0m, in \u001B[0;36mIndex.get_loc\u001B[0;34m(self, key, method, tolerance)\u001B[0m\n\u001B[1;32m   3803\u001B[0m     \u001B[38;5;28;01mreturn\u001B[39;00m \u001B[38;5;28mself\u001B[39m\u001B[38;5;241m.\u001B[39m_engine\u001B[38;5;241m.\u001B[39mget_loc(casted_key)\n\u001B[1;32m   3804\u001B[0m \u001B[38;5;28;01mexcept\u001B[39;00m \u001B[38;5;167;01mKeyError\u001B[39;00m \u001B[38;5;28;01mas\u001B[39;00m err:\n\u001B[0;32m-> 3805\u001B[0m     \u001B[38;5;28;01mraise\u001B[39;00m \u001B[38;5;167;01mKeyError\u001B[39;00m(key) \u001B[38;5;28;01mfrom\u001B[39;00m \u001B[38;5;21;01merr\u001B[39;00m\n\u001B[1;32m   3806\u001B[0m \u001B[38;5;28;01mexcept\u001B[39;00m \u001B[38;5;167;01mTypeError\u001B[39;00m:\n\u001B[1;32m   3807\u001B[0m     \u001B[38;5;66;03m# If we have a listlike key, _check_indexing_error will raise\u001B[39;00m\n\u001B[1;32m   3808\u001B[0m     \u001B[38;5;66;03m#  InvalidIndexError. Otherwise we fall through and re-raise\u001B[39;00m\n\u001B[1;32m   3809\u001B[0m     \u001B[38;5;66;03m#  the TypeError.\u001B[39;00m\n\u001B[1;32m   3810\u001B[0m     \u001B[38;5;28mself\u001B[39m\u001B[38;5;241m.\u001B[39m_check_indexing_error(key)\n",
      "\u001B[0;31mKeyError\u001B[0m: 'EURBRL=X'"
     ]
    }
   ],
   "source": [
    "items[\"EURBRL=X\"]\n"
   ],
   "metadata": {
    "collapsed": false
   }
  },
  {
   "cell_type": "markdown",
   "source": [
    "https://github.com/ranaroussi/yfinance"
   ],
   "metadata": {
    "collapsed": false,
    "pycharm": {
     "name": "#%% md\n"
    }
   }
  },
  {
   "cell_type": "code",
   "execution_count": 1,
   "outputs": [
    {
     "name": "stdout",
     "output_type": "stream",
     "text": [
      "[*********************100%***********************]  2 of 2 completed\n"
     ]
    }
   ],
   "source": [
    "import yfinance as yf\n",
    "\n",
    "data = yf.download(\"SPY AAPL MSFT \", start=\"2017-01-01\", end=\"2017-04-30\")"
   ],
   "metadata": {
    "collapsed": false,
    "pycharm": {
     "name": "#%%\n"
    }
   }
  },
  {
   "cell_type": "code",
   "execution_count": 17,
   "outputs": [
    {
     "data": {
      "text/plain": "{'zip': '95014',\n 'sector': 'Technology',\n 'fullTimeEmployees': 154000,\n 'longBusinessSummary': 'Apple Inc. designs, manufactures, and markets smartphones, personal computers, tablets, wearables, and accessories worldwide. It also sells various related services. In addition, the company offers iPhone, a line of smartphones; Mac, a line of personal computers; iPad, a line of multi-purpose tablets; AirPods Max, an over-ear wireless headphone; and wearables, home, and accessories comprising AirPods, Apple TV, Apple Watch, Beats products, HomePod, and iPod touch. Further, it provides AppleCare support services; cloud services store services; and operates various platforms, including the App Store that allow customers to discover and download applications and digital content, such as books, music, video, games, and podcasts. Additionally, the company offers various services, such as Apple Arcade, a game subscription service; Apple Music, which offers users a curated listening experience with on-demand radio stations; Apple News+, a subscription news and magazine service; Apple TV+, which offers exclusive original content; Apple Card, a co-branded credit card; and Apple Pay, a cashless payment service, as well as licenses its intellectual property. The company serves consumers, and small and mid-sized businesses; and the education, enterprise, and government markets. It distributes third-party applications for its products through the App Store. The company also sells its products through its retail and online stores, and direct sales force; and third-party cellular network carriers, wholesalers, retailers, and resellers. Apple Inc. was incorporated in 1977 and is headquartered in Cupertino, California.',\n 'city': 'Cupertino',\n 'phone': '408 996 1010',\n 'state': 'CA',\n 'country': 'United States',\n 'companyOfficers': [],\n 'website': 'https://www.apple.com',\n 'maxAge': 1,\n 'address1': 'One Apple Park Way',\n 'industry': 'Consumer Electronics',\n 'ebitdaMargins': 0.3343,\n 'profitMargins': 0.25709,\n 'grossMargins': 0.43313998,\n 'operatingCashflow': 118224003072,\n 'revenueGrowth': 0.019,\n 'operatingMargins': 0.30533,\n 'ebitda': 129556996096,\n 'targetLowPrice': None,\n 'recommendationKey': 'none',\n 'grossProfits': 152836000000,\n 'freeCashflow': 83344621568,\n 'targetMedianPrice': None,\n 'currentPrice': 152.74,\n 'earningsGrowth': -0.077,\n 'currentRatio': 0.865,\n 'returnOnAssets': 0.22204,\n 'numberOfAnalystOpinions': None,\n 'targetMeanPrice': None,\n 'debtToEquity': 205.984,\n 'returnOnEquity': 1.62816,\n 'targetHighPrice': None,\n 'totalCash': 48230998016,\n 'totalDebt': 119691001856,\n 'totalRevenue': 387541991424,\n 'totalCashPerShare': 3.001,\n 'financialCurrency': 'USD',\n 'revenuePerShare': 23.732,\n 'quickRatio': 0.697,\n 'recommendationMean': None,\n 'exchange': 'FRA',\n 'shortName': 'APPLE INC',\n 'longName': 'Apple Inc.',\n 'exchangeTimezoneName': 'Europe/Berlin',\n 'exchangeTimezoneShortName': 'CEST',\n 'isEsgPopulated': False,\n 'gmtOffSetMilliseconds': '7200000',\n 'quoteType': 'EQUITY',\n 'symbol': 'APC.F',\n 'messageBoardId': 'finmb_24937',\n 'market': 'dr_market',\n 'annualHoldingsTurnover': None,\n 'enterpriseToRevenue': 6.348,\n 'beta3Year': None,\n 'enterpriseToEbitda': 18.989,\n '52WeekChange': 0.1778779,\n 'morningStarRiskRating': None,\n 'forwardEps': None,\n 'revenueQuarterlyGrowth': None,\n 'sharesOutstanding': 16070800384,\n 'fundInceptionDate': None,\n 'annualReportExpenseRatio': None,\n 'totalAssets': None,\n 'bookValue': 3.61,\n 'sharesShort': None,\n 'sharesPercentSharesOut': None,\n 'fundFamily': None,\n 'lastFiscalYearEnd': 1632528000,\n 'heldPercentInstitutions': 0.59561,\n 'netIncomeToCommon': 99632996352,\n 'trailingEps': 6.19,\n 'lastDividendValue': 0.23,\n 'SandP52WeekChange': -0.15215701,\n 'priceToBook': 42.310253,\n 'heldPercentInsiders': 0.00071000005,\n 'nextFiscalYearEnd': 1695600000,\n 'yield': None,\n 'mostRecentQuarter': 1656115200,\n 'shortRatio': None,\n 'sharesShortPreviousMonthDate': None,\n 'floatShares': 16053717003,\n 'beta': 1.249815,\n 'enterpriseValue': 2460216459264,\n 'priceHint': 2,\n 'threeYearAverageReturn': None,\n 'lastSplitDate': 1598832000,\n 'lastSplitFactor': '4:1',\n 'legalType': None,\n 'lastDividendDate': 1659657600,\n 'morningStarOverallRating': None,\n 'earningsQuarterlyGrowth': -0.106,\n 'priceToSalesTrailing12Months': 6.4177747,\n 'dateShortInterest': None,\n 'pegRatio': None,\n 'ytdReturn': None,\n 'forwardPE': None,\n 'lastCapGain': None,\n 'shortPercentOfFloat': None,\n 'sharesShortPriorMonth': None,\n 'impliedSharesOutstanding': 0,\n 'category': None,\n 'fiveYearAverageReturn': None,\n 'previousClose': 151.64,\n 'regularMarketOpen': 151.1,\n 'twoHundredDayAverage': 148.6846,\n 'trailingAnnualDividendYield': 0.0058691637,\n 'payoutRatio': 0.1471,\n 'volume24Hr': None,\n 'regularMarketDayHigh': 152.86,\n 'navPrice': None,\n 'averageDailyVolume10Day': 4382,\n 'regularMarketPreviousClose': 151.64,\n 'fiftyDayAverage': 154.7696,\n 'trailingAnnualDividendRate': 0.89,\n 'open': 151.1,\n 'toCurrency': None,\n 'averageVolume10days': 4382,\n 'expireDate': None,\n 'algorithm': None,\n 'dividendRate': 0.89,\n 'exDividendDate': 1659657600,\n 'circulatingSupply': None,\n 'startDate': None,\n 'regularMarketDayLow': 150.5,\n 'currency': 'EUR',\n 'trailingPE': 24.675283,\n 'regularMarketVolume': 3590,\n 'lastMarket': None,\n 'maxSupply': None,\n 'openInterest': None,\n 'marketCap': 2487157260288,\n 'volumeAllCurrencies': None,\n 'strikePrice': None,\n 'averageVolume': 5847,\n 'dayLow': 150.5,\n 'ask': 152.74,\n 'askSize': 0,\n 'volume': 3590,\n 'fiftyTwoWeekHigh': 173.16,\n 'fromCurrency': None,\n 'fiveYearAvgDividendYield': 1.02,\n 'fiftyTwoWeekLow': 122.9,\n 'bid': 152.64,\n 'tradeable': False,\n 'dividendYield': 0.006,\n 'bidSize': 0,\n 'dayHigh': 152.86,\n 'coinMarketCapLink': None,\n 'regularMarketPrice': 152.74,\n 'preMarketPrice': None,\n 'logo_url': 'https://logo.clearbit.com/apple.com',\n 'trailingPegRatio': 2.6151}"
     },
     "execution_count": 17,
     "metadata": {},
     "output_type": "execute_result"
    }
   ],
   "source": [
    "import yfinance as yf\n",
    "\n",
    "apple = yf.Ticker(\"APC.F\")\n",
    "apple.info"
   ],
   "metadata": {
    "collapsed": false
   }
  },
  {
   "cell_type": "code",
   "execution_count": 18,
   "outputs": [
    {
     "data": {
      "text/plain": "{'zip': '95014',\n 'sector': 'Technology',\n 'fullTimeEmployees': 154000,\n 'longBusinessSummary': 'Apple Inc. designs, manufactures, and markets smartphones, personal computers, tablets, wearables, and accessories worldwide. It also sells various related services. In addition, the company offers iPhone, a line of smartphones; Mac, a line of personal computers; iPad, a line of multi-purpose tablets; AirPods Max, an over-ear wireless headphone; and wearables, home, and accessories comprising AirPods, Apple TV, Apple Watch, Beats products, HomePod, and iPod touch. Further, it provides AppleCare support services; cloud services store services; and operates various platforms, including the App Store that allow customers to discover and download applications and digital content, such as books, music, video, games, and podcasts. Additionally, the company offers various services, such as Apple Arcade, a game subscription service; Apple Music, which offers users a curated listening experience with on-demand radio stations; Apple News+, a subscription news and magazine service; Apple TV+, which offers exclusive original content; Apple Card, a co-branded credit card; and Apple Pay, a cashless payment service, as well as licenses its intellectual property. The company serves consumers, and small and mid-sized businesses; and the education, enterprise, and government markets. It distributes third-party applications for its products through the App Store. The company also sells its products through its retail and online stores, and direct sales force; and third-party cellular network carriers, wholesalers, retailers, and resellers. Apple Inc. was incorporated in 1977 and is headquartered in Cupertino, California.',\n 'city': 'Cupertino',\n 'phone': '408 996 1010',\n 'state': 'CA',\n 'country': 'United States',\n 'companyOfficers': [],\n 'website': 'https://www.apple.com',\n 'maxAge': 1,\n 'address1': 'One Apple Park Way',\n 'industry': 'Consumer Electronics',\n 'ebitdaMargins': 0.3343,\n 'profitMargins': 0.25709,\n 'grossMargins': 0.43313998,\n 'operatingCashflow': 118224003072,\n 'revenueGrowth': 0.019,\n 'operatingMargins': 0.30533,\n 'ebitda': 129556996096,\n 'targetLowPrice': 122,\n 'recommendationKey': 'buy',\n 'grossProfits': 152836000000,\n 'freeCashflow': 83344621568,\n 'targetMedianPrice': 185,\n 'currentPrice': 152.34,\n 'earningsGrowth': -0.077,\n 'currentRatio': 0.865,\n 'returnOnAssets': 0.22204,\n 'numberOfAnalystOpinions': 40,\n 'targetMeanPrice': 183.59,\n 'debtToEquity': 205.984,\n 'returnOnEquity': 1.62816,\n 'targetHighPrice': 220,\n 'totalCash': 48230998016,\n 'totalDebt': 119691001856,\n 'totalRevenue': 387541991424,\n 'totalCashPerShare': 3.001,\n 'financialCurrency': 'USD',\n 'revenuePerShare': 23.732,\n 'quickRatio': 0.697,\n 'recommendationMean': 1.9,\n 'exchange': 'NMS',\n 'shortName': 'Apple Inc.',\n 'longName': 'Apple Inc.',\n 'exchangeTimezoneName': 'America/New_York',\n 'exchangeTimezoneShortName': 'EDT',\n 'isEsgPopulated': False,\n 'gmtOffSetMilliseconds': '-14400000',\n 'quoteType': 'EQUITY',\n 'symbol': 'AAPL',\n 'messageBoardId': 'finmb_24937',\n 'market': 'us_market',\n 'annualHoldingsTurnover': None,\n 'enterpriseToRevenue': 6.291,\n 'beta3Year': None,\n 'enterpriseToEbitda': 18.82,\n '52WeekChange': 0.02344644,\n 'morningStarRiskRating': None,\n 'forwardEps': 6.44,\n 'revenueQuarterlyGrowth': None,\n 'sharesOutstanding': 16070800384,\n 'fundInceptionDate': None,\n 'annualReportExpenseRatio': None,\n 'totalAssets': None,\n 'bookValue': 3.61,\n 'sharesShort': 103251184,\n 'sharesPercentSharesOut': 0.0064,\n 'fundFamily': None,\n 'lastFiscalYearEnd': 1632528000,\n 'heldPercentInstitutions': 0.59561,\n 'netIncomeToCommon': 99632996352,\n 'trailingEps': 6.05,\n 'lastDividendValue': 0.23,\n 'SandP52WeekChange': -0.15215701,\n 'priceToBook': 42.199448,\n 'heldPercentInsiders': 0.00071000005,\n 'nextFiscalYearEnd': 1695600000,\n 'yield': None,\n 'mostRecentQuarter': 1656115200,\n 'shortRatio': 1.06,\n 'sharesShortPreviousMonthDate': 1661904000,\n 'floatShares': 16053717003,\n 'beta': 1.249815,\n 'enterpriseValue': 2438199771136,\n 'priceHint': 2,\n 'threeYearAverageReturn': None,\n 'lastSplitDate': 1598832000,\n 'lastSplitFactor': '4:1',\n 'legalType': None,\n 'lastDividendDate': 1659657600,\n 'morningStarOverallRating': None,\n 'earningsQuarterlyGrowth': -0.106,\n 'priceToSalesTrailing12Months': 6.3173175,\n 'dateShortInterest': 1664496000,\n 'pegRatio': 2.74,\n 'ytdReturn': None,\n 'forwardPE': 23.65528,\n 'lastCapGain': None,\n 'shortPercentOfFloat': 0.0064,\n 'sharesShortPriorMonth': 113066596,\n 'impliedSharesOutstanding': 0,\n 'category': None,\n 'fiveYearAverageReturn': None,\n 'previousClose': 149.45,\n 'regularMarketOpen': 150.09,\n 'twoHundredDayAverage': 157.10725,\n 'trailingAnnualDividendYield': 0.005955169,\n 'payoutRatio': 0.1471,\n 'volume24Hr': None,\n 'regularMarketDayHigh': 152.49,\n 'navPrice': None,\n 'averageDailyVolume10Day': 81965800,\n 'regularMarketPreviousClose': 149.45,\n 'fiftyDayAverage': 153.237,\n 'trailingAnnualDividendRate': 0.89,\n 'open': 150.09,\n 'toCurrency': None,\n 'averageVolume10days': 81965800,\n 'expireDate': None,\n 'algorithm': None,\n 'dividendRate': 0.92,\n 'exDividendDate': 1659657600,\n 'circulatingSupply': None,\n 'startDate': None,\n 'regularMarketDayLow': 149.36,\n 'currency': 'USD',\n 'trailingPE': 25.180164,\n 'regularMarketVolume': 74732290,\n 'lastMarket': None,\n 'maxSupply': None,\n 'openInterest': None,\n 'marketCap': 2448225730560,\n 'volumeAllCurrencies': None,\n 'strikePrice': None,\n 'averageVolume': 82245757,\n 'dayLow': 149.36,\n 'ask': 150.58,\n 'askSize': 1200,\n 'volume': 74732290,\n 'fiftyTwoWeekHigh': 182.94,\n 'fromCurrency': None,\n 'fiveYearAvgDividendYield': 1.02,\n 'fiftyTwoWeekLow': 129.04,\n 'bid': 150.8,\n 'tradeable': False,\n 'dividendYield': 0.0062,\n 'bidSize': 1000,\n 'dayHigh': 152.49,\n 'coinMarketCapLink': None,\n 'regularMarketPrice': 152.34,\n 'preMarketPrice': 150.15,\n 'logo_url': 'https://logo.clearbit.com/apple.com',\n 'trailingPegRatio': 2.6497}"
     },
     "execution_count": 18,
     "metadata": {},
     "output_type": "execute_result"
    }
   ],
   "source": [
    "import yfinance as yf\n",
    "\n",
    "apple = yf.Ticker(\"AAPL\")\n",
    "apple.info"
   ],
   "metadata": {
    "collapsed": false
   }
  },
  {
   "cell_type": "code",
   "execution_count": null,
   "outputs": [],
   "source": [
    "from stock_intraday.main import *\n",
    "\n",
    "entry_point(None, None)"
   ],
   "metadata": {
    "collapsed": false,
    "pycharm": {
     "name": "#%%\n",
     "is_executing": true
    }
   }
  },
  {
   "cell_type": "code",
   "execution_count": 24,
   "outputs": [
    {
     "data": {
      "text/plain": "<module 'seeders.exchanges.exchanges' from '/Users/victorhvs/Workspace/tfc-functions/cloud-functions/seeders/exchanges/exchanges.py'>"
     },
     "execution_count": 24,
     "metadata": {},
     "output_type": "execute_result"
    }
   ],
   "source": [
    "from seeders.exchanges import exchanges\n",
    "\n",
    "exchanges"
   ],
   "metadata": {
    "collapsed": false
   }
  },
  {
   "cell_type": "code",
   "execution_count": 2,
   "outputs": [],
   "source": [
    "import logging\n",
    "\n",
    "logging.info('%f before you %s', 2.4, 'leap!')"
   ],
   "metadata": {
    "collapsed": false,
    "pycharm": {
     "name": "#%%\n"
    }
   }
  }
 ],
 "metadata": {
  "kernelspec": {
   "display_name": "Python 3",
   "language": "python",
   "name": "python3"
  },
  "language_info": {
   "codemirror_mode": {
    "name": "ipython",
    "version": 2
   },
   "file_extension": ".py",
   "mimetype": "text/x-python",
   "name": "python",
   "nbconvert_exporter": "python",
   "pygments_lexer": "ipython2",
   "version": "2.7.6"
  }
 },
 "nbformat": 4,
 "nbformat_minor": 0
}
