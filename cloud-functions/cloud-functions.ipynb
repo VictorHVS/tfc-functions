{
 "cells": [
  {
   "cell_type": "markdown",
   "source": [
    "# Setup key"
   ],
   "metadata": {
    "collapsed": false,
    "pycharm": {
     "name": "#%% md\n"
    }
   }
  },
  {
   "cell_type": "code",
   "execution_count": 1,
   "outputs": [],
   "source": [
    "from dotenv import load_dotenv\n",
    "import os\n",
    "\n",
    "load_dotenv()\n",
    "API_KEY = os.getenv(\"API_TWELVEDATA\")"
   ],
   "metadata": {
    "collapsed": false,
    "pycharm": {
     "name": "#%%\n"
    }
   }
  },
  {
   "cell_type": "code",
   "execution_count": 2,
   "outputs": [
    {
     "name": "stdout",
     "output_type": "stream",
     "text": [
      "{'data': b'eyJidWRnZXRBbW91bnQiOiAxMDAsICJjb3N0QW1vdW50IjogMTB9'}\n"
     ]
    }
   ],
   "source": [
    "import base64\n",
    "import json\n",
    "data = {\"budgetAmount\": 100, \"costAmount\": 10}\n",
    "\n",
    "result = {\n",
    "    \"data\": base64.b64encode(bytes(json.dumps(data), 'utf-8'))\n",
    "}\n",
    "\n",
    "print(result)"
   ],
   "metadata": {
    "collapsed": false,
    "pycharm": {
     "name": "#%%\n"
    }
   }
  }
 ],
 "metadata": {
  "kernelspec": {
   "display_name": "Python 3",
   "language": "python",
   "name": "python3"
  },
  "language_info": {
   "codemirror_mode": {
    "name": "ipython",
    "version": 2
   },
   "file_extension": ".py",
   "mimetype": "text/x-python",
   "name": "python",
   "nbconvert_exporter": "python",
   "pygments_lexer": "ipython2",
   "version": "2.7.6"
  }
 },
 "nbformat": 4,
 "nbformat_minor": 0
}