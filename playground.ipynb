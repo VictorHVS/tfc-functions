{
 "cells": [
  {
   "cell_type": "code",
   "execution_count": null,
   "source": [
    "import ticker_info as ticker\n",
    "tickers = ticker.list_all()"
   ],
   "outputs": [],
   "metadata": {}
  },
  {
   "cell_type": "code",
   "execution_count": null,
   "source": [
    "import ticker_info as ticker\n",
    "ticker.get_ticker_info('FLRY3.SA')"
   ],
   "outputs": [],
   "metadata": {}
  },
  {
   "cell_type": "code",
   "execution_count": null,
   "source": [
    "ticker.download_icon('RADL')"
   ],
   "outputs": [],
   "metadata": {}
  },
  {
   "cell_type": "code",
   "execution_count": null,
   "source": [
    "ticker.mass_icon_download()"
   ],
   "outputs": [],
   "metadata": {}
  },
  {
   "cell_type": "code",
   "execution_count": 3,
   "source": [
    "import ticker_price\n",
    "\n",
    "data = ticker_price.save_quote(\"FLRY3.SA\")\n",
    "data"
   ],
   "outputs": [
    {
     "output_type": "stream",
     "name": "stdout",
     "text": [
      "[*********************100%***********************]  1 of 1 completed\n"
     ]
    },
    {
     "output_type": "execute_result",
     "data": {
      "text/html": [
       "<div>\n",
       "<style scoped>\n",
       "    .dataframe tbody tr th:only-of-type {\n",
       "        vertical-align: middle;\n",
       "    }\n",
       "\n",
       "    .dataframe tbody tr th {\n",
       "        vertical-align: top;\n",
       "    }\n",
       "\n",
       "    .dataframe thead th {\n",
       "        text-align: right;\n",
       "    }\n",
       "</style>\n",
       "<table border=\"1\" class=\"dataframe\">\n",
       "  <thead>\n",
       "    <tr style=\"text-align: right;\">\n",
       "      <th></th>\n",
       "      <th>Open</th>\n",
       "      <th>High</th>\n",
       "      <th>Low</th>\n",
       "      <th>Close</th>\n",
       "      <th>Volume</th>\n",
       "    </tr>\n",
       "    <tr>\n",
       "      <th>Date</th>\n",
       "      <th></th>\n",
       "      <th></th>\n",
       "      <th></th>\n",
       "      <th></th>\n",
       "      <th></th>\n",
       "    </tr>\n",
       "  </thead>\n",
       "  <tbody>\n",
       "    <tr>\n",
       "      <th>2021-09-14</th>\n",
       "      <td>24.110001</td>\n",
       "      <td>24.469999</td>\n",
       "      <td>24.030001</td>\n",
       "      <td>24.290001</td>\n",
       "      <td>895000</td>\n",
       "    </tr>\n",
       "    <tr>\n",
       "      <th>2021-09-15</th>\n",
       "      <td>0.000000</td>\n",
       "      <td>0.000000</td>\n",
       "      <td>0.000000</td>\n",
       "      <td>24.230000</td>\n",
       "      <td>0</td>\n",
       "    </tr>\n",
       "  </tbody>\n",
       "</table>\n",
       "</div>"
      ],
      "text/plain": [
       "                 Open       High        Low      Close  Volume\n",
       "Date                                                          \n",
       "2021-09-14  24.110001  24.469999  24.030001  24.290001  895000\n",
       "2021-09-15   0.000000   0.000000   0.000000  24.230000       0"
      ]
     },
     "metadata": {},
     "execution_count": 3
    }
   ],
   "metadata": {}
  },
  {
   "cell_type": "code",
   "execution_count": 1,
   "source": [
    "import ticker_price\n",
    "\n",
    "data = ticker_price.save_quote(\"FLRY3.SA\")\n",
    "data"
   ],
   "outputs": [
    {
     "output_type": "stream",
     "name": "stdout",
     "text": [
      "[*********************100%***********************]  1 of 1 completed\n"
     ]
    },
    {
     "output_type": "execute_result",
     "data": {
      "text/html": [
       "<div>\n",
       "<style scoped>\n",
       "    .dataframe tbody tr th:only-of-type {\n",
       "        vertical-align: middle;\n",
       "    }\n",
       "\n",
       "    .dataframe tbody tr th {\n",
       "        vertical-align: top;\n",
       "    }\n",
       "\n",
       "    .dataframe thead th {\n",
       "        text-align: right;\n",
       "    }\n",
       "</style>\n",
       "<table border=\"1\" class=\"dataframe\">\n",
       "  <thead>\n",
       "    <tr style=\"text-align: right;\">\n",
       "      <th></th>\n",
       "      <th>Open</th>\n",
       "      <th>High</th>\n",
       "      <th>Low</th>\n",
       "      <th>Close</th>\n",
       "      <th>Volume</th>\n",
       "    </tr>\n",
       "    <tr>\n",
       "      <th>Datetime</th>\n",
       "      <th></th>\n",
       "      <th></th>\n",
       "      <th></th>\n",
       "      <th></th>\n",
       "      <th></th>\n",
       "    </tr>\n",
       "  </thead>\n",
       "  <tbody>\n",
       "    <tr>\n",
       "      <th>2021-09-14 10:05:00-03:00</th>\n",
       "      <td>24.110001</td>\n",
       "      <td>24.129999</td>\n",
       "      <td>24.049999</td>\n",
       "      <td>24.070000</td>\n",
       "      <td>6400</td>\n",
       "    </tr>\n",
       "    <tr>\n",
       "      <th>2021-09-14 10:10:00-03:00</th>\n",
       "      <td>24.070000</td>\n",
       "      <td>24.160000</td>\n",
       "      <td>24.059999</td>\n",
       "      <td>24.150000</td>\n",
       "      <td>5700</td>\n",
       "    </tr>\n",
       "    <tr>\n",
       "      <th>2021-09-14 10:15:00-03:00</th>\n",
       "      <td>24.120001</td>\n",
       "      <td>24.180000</td>\n",
       "      <td>24.110001</td>\n",
       "      <td>24.180000</td>\n",
       "      <td>5100</td>\n",
       "    </tr>\n",
       "    <tr>\n",
       "      <th>2021-09-14 10:20:00-03:00</th>\n",
       "      <td>24.180000</td>\n",
       "      <td>24.270000</td>\n",
       "      <td>24.129999</td>\n",
       "      <td>24.209999</td>\n",
       "      <td>9500</td>\n",
       "    </tr>\n",
       "    <tr>\n",
       "      <th>2021-09-14 10:25:00-03:00</th>\n",
       "      <td>24.200001</td>\n",
       "      <td>24.290001</td>\n",
       "      <td>24.200001</td>\n",
       "      <td>24.270000</td>\n",
       "      <td>10900</td>\n",
       "    </tr>\n",
       "    <tr>\n",
       "      <th>...</th>\n",
       "      <td>...</td>\n",
       "      <td>...</td>\n",
       "      <td>...</td>\n",
       "      <td>...</td>\n",
       "      <td>...</td>\n",
       "    </tr>\n",
       "    <tr>\n",
       "      <th>2021-09-15 16:30:00-03:00</th>\n",
       "      <td>24.170000</td>\n",
       "      <td>24.200001</td>\n",
       "      <td>24.150000</td>\n",
       "      <td>24.150000</td>\n",
       "      <td>8700</td>\n",
       "    </tr>\n",
       "    <tr>\n",
       "      <th>2021-09-15 16:35:00-03:00</th>\n",
       "      <td>24.160000</td>\n",
       "      <td>24.170000</td>\n",
       "      <td>24.150000</td>\n",
       "      <td>24.170000</td>\n",
       "      <td>10000</td>\n",
       "    </tr>\n",
       "    <tr>\n",
       "      <th>2021-09-15 16:40:00-03:00</th>\n",
       "      <td>24.170000</td>\n",
       "      <td>24.209999</td>\n",
       "      <td>24.150000</td>\n",
       "      <td>24.190001</td>\n",
       "      <td>16000</td>\n",
       "    </tr>\n",
       "    <tr>\n",
       "      <th>2021-09-15 16:45:00-03:00</th>\n",
       "      <td>24.200001</td>\n",
       "      <td>24.230000</td>\n",
       "      <td>24.180000</td>\n",
       "      <td>24.200001</td>\n",
       "      <td>12100</td>\n",
       "    </tr>\n",
       "    <tr>\n",
       "      <th>2021-09-15 16:50:00-03:00</th>\n",
       "      <td>24.190001</td>\n",
       "      <td>24.240000</td>\n",
       "      <td>24.150000</td>\n",
       "      <td>24.170000</td>\n",
       "      <td>14600</td>\n",
       "    </tr>\n",
       "  </tbody>\n",
       "</table>\n",
       "<p>166 rows × 5 columns</p>\n",
       "</div>"
      ],
      "text/plain": [
       "                                Open       High        Low      Close  Volume\n",
       "Datetime                                                                     \n",
       "2021-09-14 10:05:00-03:00  24.110001  24.129999  24.049999  24.070000    6400\n",
       "2021-09-14 10:10:00-03:00  24.070000  24.160000  24.059999  24.150000    5700\n",
       "2021-09-14 10:15:00-03:00  24.120001  24.180000  24.110001  24.180000    5100\n",
       "2021-09-14 10:20:00-03:00  24.180000  24.270000  24.129999  24.209999    9500\n",
       "2021-09-14 10:25:00-03:00  24.200001  24.290001  24.200001  24.270000   10900\n",
       "...                              ...        ...        ...        ...     ...\n",
       "2021-09-15 16:30:00-03:00  24.170000  24.200001  24.150000  24.150000    8700\n",
       "2021-09-15 16:35:00-03:00  24.160000  24.170000  24.150000  24.170000   10000\n",
       "2021-09-15 16:40:00-03:00  24.170000  24.209999  24.150000  24.190001   16000\n",
       "2021-09-15 16:45:00-03:00  24.200001  24.230000  24.180000  24.200001   12100\n",
       "2021-09-15 16:50:00-03:00  24.190001  24.240000  24.150000  24.170000   14600\n",
       "\n",
       "[166 rows x 5 columns]"
      ]
     },
     "metadata": {},
     "execution_count": 1
    }
   ],
   "metadata": {}
  }
 ],
 "metadata": {
  "orig_nbformat": 4,
  "language_info": {
   "name": "python",
   "version": "3.9.6",
   "mimetype": "text/x-python",
   "codemirror_mode": {
    "name": "ipython",
    "version": 3
   },
   "pygments_lexer": "ipython3",
   "nbconvert_exporter": "python",
   "file_extension": ".py"
  },
  "kernelspec": {
   "name": "python3",
   "display_name": "Python 3.9.6 64-bit ('env': venv)"
  },
  "interpreter": {
   "hash": "03a418e5cb039b4c2e7b2aaef0d0fe970363b01be27f8c3c1efba6b351a2cf9b"
  }
 },
 "nbformat": 4,
 "nbformat_minor": 2
}